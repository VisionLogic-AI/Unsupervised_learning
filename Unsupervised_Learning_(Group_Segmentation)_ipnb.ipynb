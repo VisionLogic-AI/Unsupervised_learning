{
  "nbformat": 4,
  "nbformat_minor": 0,
  "metadata": {
    "colab": {
      "name": "Unsupervised Learning (Group Segmentation).ipnb",
      "provenance": [],
      "collapsed_sections": [],
      "authorship_tag": "ABX9TyN/RPF+p8yA1sRdvKYc5c03",
      "include_colab_link": true
    },
    "kernelspec": {
      "name": "python3",
      "display_name": "Python 3"
    },
    "accelerator": "GPU"
  },
  "cells": [
    {
      "cell_type": "markdown",
      "metadata": {
        "id": "view-in-github",
        "colab_type": "text"
      },
      "source": [
        "<a href=\"https://colab.research.google.com/github/VisionLogic-AI/Unsupervised_learning/blob/master/Unsupervised_Learning_(Group_Segmentation)_ipnb.ipynb\" target=\"_parent\"><img src=\"https://colab.research.google.com/assets/colab-badge.svg\" alt=\"Open In Colab\"/></a>"
      ]
    },
    {
      "cell_type": "markdown",
      "metadata": {
        "id": "IJaW0PsFllKw",
        "colab_type": "text"
      },
      "source": [
        "#Group Segmentation \n",
        "From an applied perspective, the ability to segment members into a group based on similarity and without any guidance frokm labels is very poweful.<br>\n",
        "For example) Finding different consumer groups for online retailers, customizing a marketing strategy for each distinct group etc.\n",
        "\n",
        "*The options are endless for finding diffent customer segment groups once your data has has dimensionality reduction applied to it and then cluster with great accuracy....all without using any labels!"
      ]
    },
    {
      "cell_type": "markdown",
      "metadata": {
        "id": "4x_O0qNHmg3R",
        "colab_type": "text"
      },
      "source": [
        "#Lending Club Data\n",
        "In this notebook we will use loan data frokm Lending Club, a US peer to peer lending company"
      ]
    },
    {
      "cell_type": "code",
      "metadata": {
        "id": "1Hb5rvH6laQ2",
        "colab_type": "code",
        "colab": {
          "base_uri": "https://localhost:8080/",
          "height": 136
        },
        "outputId": "e48d985d-5b4a-483e-dd18-07043644bef0"
      },
      "source": [
        "#download github repo \n",
        "!git clone https://github.com/aapatel09/handson-unsupervised-learning.git"
      ],
      "execution_count": null,
      "outputs": [
        {
          "output_type": "stream",
          "text": [
            "Cloning into 'handson-unsupervised-learning'...\n",
            "remote: Enumerating objects: 49, done.\u001b[K\n",
            "remote: Counting objects: 100% (49/49), done.\u001b[K\n",
            "remote: Compressing objects: 100% (40/40), done.\u001b[K\n",
            "remote: Total 459 (delta 14), reused 21 (delta 5), pack-reused 410\u001b[K\n",
            "Receiving objects: 100% (459/459), 93.79 MiB | 28.99 MiB/s, done.\n",
            "Resolving deltas: 100% (74/74), done.\n"
          ],
          "name": "stdout"
        }
      ]
    },
    {
      "cell_type": "code",
      "metadata": {
        "id": "hjBPUSjHoACe",
        "colab_type": "code",
        "colab": {
          "base_uri": "https://localhost:8080/",
          "height": 445
        },
        "outputId": "4c406559-e3be-41e3-d979-43124aebaa80"
      },
      "source": [
        "#implement the correct version of tensorflow\n",
        "%tensorflow_version 1.x\n",
        "!pip install tensorflow \n",
        "import tensorflow as tf\n",
        "print(tf.__version__)"
      ],
      "execution_count": null,
      "outputs": [
        {
          "output_type": "stream",
          "text": [
            "Requirement already satisfied: tensorflow in /tensorflow-1.15.2/python3.6 (1.15.2)\n",
            "Requirement already satisfied: absl-py>=0.7.0 in /usr/local/lib/python3.6/dist-packages (from tensorflow) (0.9.0)\n",
            "Requirement already satisfied: tensorflow-estimator==1.15.1 in /tensorflow-1.15.2/python3.6 (from tensorflow) (1.15.1)\n",
            "Requirement already satisfied: google-pasta>=0.1.6 in /usr/local/lib/python3.6/dist-packages (from tensorflow) (0.2.0)\n",
            "Requirement already satisfied: gast==0.2.2 in /usr/local/lib/python3.6/dist-packages (from tensorflow) (0.2.2)\n",
            "Requirement already satisfied: keras-applications>=1.0.8 in /usr/local/lib/python3.6/dist-packages (from tensorflow) (1.0.8)\n",
            "Requirement already satisfied: grpcio>=1.8.6 in /usr/local/lib/python3.6/dist-packages (from tensorflow) (1.29.0)\n",
            "Requirement already satisfied: tensorboard<1.16.0,>=1.15.0 in /tensorflow-1.15.2/python3.6 (from tensorflow) (1.15.0)\n",
            "Requirement already satisfied: termcolor>=1.1.0 in /usr/local/lib/python3.6/dist-packages (from tensorflow) (1.1.0)\n",
            "Requirement already satisfied: protobuf>=3.6.1 in /usr/local/lib/python3.6/dist-packages (from tensorflow) (3.10.0)\n",
            "Requirement already satisfied: keras-preprocessing>=1.0.5 in /usr/local/lib/python3.6/dist-packages (from tensorflow) (1.1.2)\n",
            "Requirement already satisfied: six>=1.10.0 in /usr/local/lib/python3.6/dist-packages (from tensorflow) (1.12.0)\n",
            "Requirement already satisfied: wrapt>=1.11.1 in /usr/local/lib/python3.6/dist-packages (from tensorflow) (1.12.1)\n",
            "Requirement already satisfied: opt-einsum>=2.3.2 in /usr/local/lib/python3.6/dist-packages (from tensorflow) (3.2.1)\n",
            "Requirement already satisfied: wheel>=0.26; python_version >= \"3\" in /usr/local/lib/python3.6/dist-packages (from tensorflow) (0.34.2)\n",
            "Requirement already satisfied: astor>=0.6.0 in /usr/local/lib/python3.6/dist-packages (from tensorflow) (0.8.1)\n",
            "Requirement already satisfied: numpy<2.0,>=1.16.0 in /usr/local/lib/python3.6/dist-packages (from tensorflow) (1.18.5)\n",
            "Requirement already satisfied: h5py in /usr/local/lib/python3.6/dist-packages (from keras-applications>=1.0.8->tensorflow) (2.10.0)\n",
            "Requirement already satisfied: markdown>=2.6.8 in /usr/local/lib/python3.6/dist-packages (from tensorboard<1.16.0,>=1.15.0->tensorflow) (3.2.2)\n",
            "Requirement already satisfied: werkzeug>=0.11.15 in /usr/local/lib/python3.6/dist-packages (from tensorboard<1.16.0,>=1.15.0->tensorflow) (1.0.1)\n",
            "Requirement already satisfied: setuptools>=41.0.0 in /usr/local/lib/python3.6/dist-packages (from tensorboard<1.16.0,>=1.15.0->tensorflow) (47.3.1)\n",
            "Requirement already satisfied: importlib-metadata; python_version < \"3.8\" in /usr/local/lib/python3.6/dist-packages (from markdown>=2.6.8->tensorboard<1.16.0,>=1.15.0->tensorflow) (1.6.1)\n",
            "Requirement already satisfied: zipp>=0.5 in /usr/local/lib/python3.6/dist-packages (from importlib-metadata; python_version < \"3.8\"->markdown>=2.6.8->tensorboard<1.16.0,>=1.15.0->tensorflow) (3.1.0)\n",
            "1.15.2\n"
          ],
          "name": "stdout"
        }
      ]
    },
    {
      "cell_type": "code",
      "metadata": {
        "id": "qJ2si-_EogBe",
        "colab_type": "code",
        "colab": {
          "base_uri": "https://localhost:8080/",
          "height": 955
        },
        "outputId": "103da08d-9fd2-4fdc-b0ad-919a57699063"
      },
      "source": [
        "#Install our other dependencies\n",
        "!pip install keras\n",
        "!pip install xgboost\n",
        "!pip install lightgbm\n",
        "!pip install fastcluster\n",
        "!pip install hdbscan\n",
        "!pip install tslearn"
      ],
      "execution_count": null,
      "outputs": [
        {
          "output_type": "stream",
          "text": [
            "Requirement already satisfied: keras in /usr/local/lib/python3.6/dist-packages (2.3.1)\n",
            "Requirement already satisfied: scipy>=0.14 in /usr/local/lib/python3.6/dist-packages (from keras) (1.4.1)\n",
            "Requirement already satisfied: keras-preprocessing>=1.0.5 in /usr/local/lib/python3.6/dist-packages (from keras) (1.1.2)\n",
            "Requirement already satisfied: pyyaml in /usr/local/lib/python3.6/dist-packages (from keras) (3.13)\n",
            "Requirement already satisfied: keras-applications>=1.0.6 in /usr/local/lib/python3.6/dist-packages (from keras) (1.0.8)\n",
            "Requirement already satisfied: h5py in /usr/local/lib/python3.6/dist-packages (from keras) (2.10.0)\n",
            "Requirement already satisfied: numpy>=1.9.1 in /usr/local/lib/python3.6/dist-packages (from keras) (1.18.5)\n",
            "Requirement already satisfied: six>=1.9.0 in /usr/local/lib/python3.6/dist-packages (from keras) (1.12.0)\n",
            "Requirement already satisfied: xgboost in /usr/local/lib/python3.6/dist-packages (0.90)\n",
            "Requirement already satisfied: numpy in /usr/local/lib/python3.6/dist-packages (from xgboost) (1.18.5)\n",
            "Requirement already satisfied: scipy in /usr/local/lib/python3.6/dist-packages (from xgboost) (1.4.1)\n",
            "Requirement already satisfied: lightgbm in /usr/local/lib/python3.6/dist-packages (2.2.3)\n",
            "Requirement already satisfied: numpy in /usr/local/lib/python3.6/dist-packages (from lightgbm) (1.18.5)\n",
            "Requirement already satisfied: scipy in /usr/local/lib/python3.6/dist-packages (from lightgbm) (1.4.1)\n",
            "Requirement already satisfied: scikit-learn in /usr/local/lib/python3.6/dist-packages (from lightgbm) (0.22.2.post1)\n",
            "Requirement already satisfied: joblib>=0.11 in /usr/local/lib/python3.6/dist-packages (from scikit-learn->lightgbm) (0.15.1)\n",
            "Collecting fastcluster\n",
            "\u001b[?25l  Downloading https://files.pythonhosted.org/packages/1e/9d/3d7525a4722ee4a11ad969762d1de53b6dac326b5ac1366221e06958e1d7/fastcluster-1.1.26-cp36-cp36m-manylinux1_x86_64.whl (154kB)\n",
            "\u001b[K     |████████████████████████████████| 163kB 3.4MB/s \n",
            "\u001b[?25hRequirement already satisfied: numpy>=1.9 in /usr/local/lib/python3.6/dist-packages (from fastcluster) (1.18.5)\n",
            "Installing collected packages: fastcluster\n",
            "Successfully installed fastcluster-1.1.26\n",
            "Collecting hdbscan\n",
            "\u001b[?25l  Downloading https://files.pythonhosted.org/packages/22/2f/2423d844072f007a74214c1adc46260e45f034bb1679ccadfbb8a601f647/hdbscan-0.8.26.tar.gz (4.7MB)\n",
            "\u001b[K     |████████████████████████████████| 4.7MB 3.4MB/s \n",
            "\u001b[?25h  Installing build dependencies ... \u001b[?25l\u001b[?25hdone\n",
            "  Getting requirements to build wheel ... \u001b[?25l\u001b[?25hdone\n",
            "    Preparing wheel metadata ... \u001b[?25l\u001b[?25hdone\n",
            "Requirement already satisfied: cython>=0.27 in /usr/local/lib/python3.6/dist-packages (from hdbscan) (0.29.20)\n",
            "Requirement already satisfied: scipy>=0.9 in /usr/local/lib/python3.6/dist-packages (from hdbscan) (1.4.1)\n",
            "Requirement already satisfied: scikit-learn>=0.17 in /usr/local/lib/python3.6/dist-packages (from hdbscan) (0.22.2.post1)\n",
            "Requirement already satisfied: joblib in /usr/local/lib/python3.6/dist-packages (from hdbscan) (0.15.1)\n",
            "Requirement already satisfied: numpy>=1.16.0 in /usr/local/lib/python3.6/dist-packages (from hdbscan) (1.18.5)\n",
            "Requirement already satisfied: six in /usr/local/lib/python3.6/dist-packages (from hdbscan) (1.12.0)\n",
            "Building wheels for collected packages: hdbscan\n",
            "  Building wheel for hdbscan (PEP 517) ... \u001b[?25l\u001b[?25hdone\n",
            "  Created wheel for hdbscan: filename=hdbscan-0.8.26-cp36-cp36m-linux_x86_64.whl size=2307189 sha256=3a4c018e92cfbcd78fb3e4e284b3e3515a9e2d225a3c5a1a20f9ae956320f40e\n",
            "  Stored in directory: /root/.cache/pip/wheels/82/38/41/372f034d8abd271ef7787a681e0a47fc05d472683a7eb088ed\n",
            "Successfully built hdbscan\n",
            "Installing collected packages: hdbscan\n",
            "Successfully installed hdbscan-0.8.26\n",
            "Collecting tslearn\n",
            "\u001b[?25l  Downloading https://files.pythonhosted.org/packages/a7/67/aa3149fdfef2582d881ce4a5117c9e6a465d5082dd57866904ca508a157c/tslearn-0.4.1-cp36-cp36m-manylinux2010_x86_64.whl (770kB)\n",
            "\u001b[K     |████████████████████████████████| 778kB 3.5MB/s \n",
            "\u001b[?25hRequirement already satisfied: joblib in /usr/local/lib/python3.6/dist-packages (from tslearn) (0.15.1)\n",
            "Requirement already satisfied: numba in /usr/local/lib/python3.6/dist-packages (from tslearn) (0.48.0)\n",
            "Requirement already satisfied: numpy in /usr/local/lib/python3.6/dist-packages (from tslearn) (1.18.5)\n",
            "Requirement already satisfied: scipy in /usr/local/lib/python3.6/dist-packages (from tslearn) (1.4.1)\n",
            "Requirement already satisfied: scikit-learn in /usr/local/lib/python3.6/dist-packages (from tslearn) (0.22.2.post1)\n",
            "Requirement already satisfied: Cython in /usr/local/lib/python3.6/dist-packages (from tslearn) (0.29.20)\n",
            "Requirement already satisfied: llvmlite<0.32.0,>=0.31.0dev0 in /usr/local/lib/python3.6/dist-packages (from numba->tslearn) (0.31.0)\n",
            "Requirement already satisfied: setuptools in /usr/local/lib/python3.6/dist-packages (from numba->tslearn) (47.3.1)\n",
            "Installing collected packages: tslearn\n",
            "Successfully installed tslearn-0.4.1\n"
          ],
          "name": "stdout"
        }
      ]
    },
    {
      "cell_type": "markdown",
      "metadata": {
        "id": "gOZezsXFpYKw",
        "colab_type": "text"
      },
      "source": [
        "#Data Preparation\n",
        "Lets prepare our environment to work with the Lending Club data"
      ]
    },
    {
      "cell_type": "code",
      "metadata": {
        "id": "7AD1-i4upgWj",
        "colab_type": "code",
        "colab": {
          "base_uri": "https://localhost:8080/",
          "height": 71
        },
        "outputId": "69595ca0-ae39-4b2d-9e74-88198b9d7f20"
      },
      "source": [
        "#load libs\n",
        "import numpy as np\n",
        "import pandas as pd\n",
        "import os, time, re\n",
        "import pickle, gzip\n",
        "\n",
        "#Data Viz\n",
        "import matplotlib.pyplot as plt\n",
        "import seaborn as sns\n",
        "color= sns.color_palette()\n",
        "import matplotlib as mpl\n",
        "\n",
        "%matplotlib inline\n",
        "\n",
        "#Data Prep and Model Evaluation\n",
        "from sklearn import preprocessing as pp\n",
        "from sklearn.model_selection import train_test_split\n",
        "from sklearn.metrics import precision_recall_curve, average_precision_score\n",
        "from sklearn.metrics import roc_curve, auc, roc_auc_score\n",
        "\n",
        "#Alogorithms\n",
        "from sklearn.decomposition import PCA  \n",
        "from sklearn.cluster import KMeans\n",
        "import fastcluster\n",
        "from scipy.cluster.hierarchy import dendrogram, cophenet, fcluster\n",
        "from scipy.spatial.distance import pdist"
      ],
      "execution_count": 5,
      "outputs": [
        {
          "output_type": "stream",
          "text": [
            "/usr/local/lib/python3.6/dist-packages/statsmodels/tools/_testing.py:19: FutureWarning: pandas.util.testing is deprecated. Use the functions in the public API at pandas.testing instead.\n",
            "  import pandas.util.testing as tm\n"
          ],
          "name": "stderr"
        }
      ]
    },
    {
      "cell_type": "markdown",
      "metadata": {
        "id": "dpylaiziqr69",
        "colab_type": "text"
      },
      "source": [
        "#Explore Data\n",
        "Now lets load the loan data and designate which of the columns to keep.<br>\n",
        "\n",
        "The original loan data has 144 columns, but most of these columns are empty and are of little value to us."
      ]
    },
    {
      "cell_type": "code",
      "metadata": {
        "id": "ywMqFejmrCZN",
        "colab_type": "code",
        "colab": {
          "base_uri": "https://localhost:8080/",
          "height": 343
        },
        "outputId": "d418cd02-a4dc-487f-cf7c-48c03be29a85"
      },
      "source": [
        "#load data\n",
        "data = pd.read_csv('/content/handson-unsupervised-learning/datasets/lending_club_data/LoanStats3a.csv')\n",
        "\n",
        "#select columns to keep while deleting the remaining non value columns (the opposite of manually removing columns one by one)\n",
        "data.drop(data.columns.difference(['loan_amnt', 'funded_amnt', 'funded_amnt_inv', 'term', 'int_rate',\n",
        "                'installment', 'grade', 'sub_grade', 'emp_length', 'home_ownership',\n",
        "                 'annual_inc', 'verification_status', 'pymnt_plan', 'purpose', 'addr_state',\n",
        "                 'dti', 'deling_2yrs', 'earliest_cr_line', 'mths_since_last_delinq', 'mths_since_last_record',\n",
        "                 'open_acc', 'pub_rec', 'revol_bal', 'revol_util', 'total_acc', 'initial_list_status',\n",
        "                 'out_prncp', 'out_prncp_inv', 'total_pymnt', 'total_pymnt_inv', 'total_rec_prncp',\n",
        "                 'total_rec_int', 'total_rec_late_fee', 'recoveries', 'collection_recovery_fee',\n",
        "                 'last_pymnt_d', 'last_pymnt_amnt']), 1, inplace= True)\n",
        "data.shape\n",
        "data.head(5)\n"
      ],
      "execution_count": 47,
      "outputs": [
        {
          "output_type": "stream",
          "text": [
            "/usr/local/lib/python3.6/dist-packages/IPython/core/interactiveshell.py:2718: DtypeWarning: Columns (0,47) have mixed types.Specify dtype option on import or set low_memory=False.\n",
            "  interactivity=interactivity, compiler=compiler, result=result)\n"
          ],
          "name": "stderr"
        },
        {
          "output_type": "execute_result",
          "data": {
            "text/html": [
              "<div>\n",
              "<style scoped>\n",
              "    .dataframe tbody tr th:only-of-type {\n",
              "        vertical-align: middle;\n",
              "    }\n",
              "\n",
              "    .dataframe tbody tr th {\n",
              "        vertical-align: top;\n",
              "    }\n",
              "\n",
              "    .dataframe thead th {\n",
              "        text-align: right;\n",
              "    }\n",
              "</style>\n",
              "<table border=\"1\" class=\"dataframe\">\n",
              "  <thead>\n",
              "    <tr style=\"text-align: right;\">\n",
              "      <th></th>\n",
              "      <th>loan_amnt</th>\n",
              "      <th>funded_amnt</th>\n",
              "      <th>funded_amnt_inv</th>\n",
              "      <th>term</th>\n",
              "      <th>int_rate</th>\n",
              "      <th>installment</th>\n",
              "      <th>grade</th>\n",
              "      <th>sub_grade</th>\n",
              "      <th>emp_length</th>\n",
              "      <th>home_ownership</th>\n",
              "      <th>annual_inc</th>\n",
              "      <th>verification_status</th>\n",
              "      <th>pymnt_plan</th>\n",
              "      <th>purpose</th>\n",
              "      <th>addr_state</th>\n",
              "      <th>dti</th>\n",
              "      <th>earliest_cr_line</th>\n",
              "      <th>mths_since_last_delinq</th>\n",
              "      <th>mths_since_last_record</th>\n",
              "      <th>open_acc</th>\n",
              "      <th>pub_rec</th>\n",
              "      <th>revol_bal</th>\n",
              "      <th>revol_util</th>\n",
              "      <th>total_acc</th>\n",
              "      <th>initial_list_status</th>\n",
              "      <th>out_prncp</th>\n",
              "      <th>out_prncp_inv</th>\n",
              "      <th>total_pymnt</th>\n",
              "      <th>total_pymnt_inv</th>\n",
              "      <th>total_rec_prncp</th>\n",
              "      <th>total_rec_int</th>\n",
              "      <th>total_rec_late_fee</th>\n",
              "      <th>recoveries</th>\n",
              "      <th>collection_recovery_fee</th>\n",
              "      <th>last_pymnt_d</th>\n",
              "      <th>last_pymnt_amnt</th>\n",
              "    </tr>\n",
              "  </thead>\n",
              "  <tbody>\n",
              "    <tr>\n",
              "      <th>0</th>\n",
              "      <td>5000.0</td>\n",
              "      <td>5000.0</td>\n",
              "      <td>4975.0</td>\n",
              "      <td>36 months</td>\n",
              "      <td>10.65%</td>\n",
              "      <td>162.87</td>\n",
              "      <td>B</td>\n",
              "      <td>B2</td>\n",
              "      <td>10+ years</td>\n",
              "      <td>RENT</td>\n",
              "      <td>24000.0</td>\n",
              "      <td>Verified</td>\n",
              "      <td>n</td>\n",
              "      <td>credit_card</td>\n",
              "      <td>AZ</td>\n",
              "      <td>27.65</td>\n",
              "      <td>Jan-85</td>\n",
              "      <td>NaN</td>\n",
              "      <td>NaN</td>\n",
              "      <td>3.0</td>\n",
              "      <td>0.0</td>\n",
              "      <td>13648.0</td>\n",
              "      <td>83.70%</td>\n",
              "      <td>9.0</td>\n",
              "      <td>f</td>\n",
              "      <td>0.0</td>\n",
              "      <td>0.0</td>\n",
              "      <td>5863.155187</td>\n",
              "      <td>5833.84</td>\n",
              "      <td>5000.00</td>\n",
              "      <td>863.16</td>\n",
              "      <td>0.00</td>\n",
              "      <td>0.0</td>\n",
              "      <td>0.00</td>\n",
              "      <td>Jan-15</td>\n",
              "      <td>171.62</td>\n",
              "    </tr>\n",
              "    <tr>\n",
              "      <th>1</th>\n",
              "      <td>2500.0</td>\n",
              "      <td>2500.0</td>\n",
              "      <td>2500.0</td>\n",
              "      <td>60 months</td>\n",
              "      <td>15.27%</td>\n",
              "      <td>59.83</td>\n",
              "      <td>C</td>\n",
              "      <td>C4</td>\n",
              "      <td>&lt; 1 year</td>\n",
              "      <td>RENT</td>\n",
              "      <td>30000.0</td>\n",
              "      <td>Source Verified</td>\n",
              "      <td>n</td>\n",
              "      <td>car</td>\n",
              "      <td>GA</td>\n",
              "      <td>1.00</td>\n",
              "      <td>Apr-99</td>\n",
              "      <td>NaN</td>\n",
              "      <td>NaN</td>\n",
              "      <td>3.0</td>\n",
              "      <td>0.0</td>\n",
              "      <td>1687.0</td>\n",
              "      <td>9.40%</td>\n",
              "      <td>4.0</td>\n",
              "      <td>f</td>\n",
              "      <td>0.0</td>\n",
              "      <td>0.0</td>\n",
              "      <td>1014.530000</td>\n",
              "      <td>1014.53</td>\n",
              "      <td>456.46</td>\n",
              "      <td>435.17</td>\n",
              "      <td>0.00</td>\n",
              "      <td>122.9</td>\n",
              "      <td>1.11</td>\n",
              "      <td>Apr-13</td>\n",
              "      <td>119.66</td>\n",
              "    </tr>\n",
              "    <tr>\n",
              "      <th>2</th>\n",
              "      <td>2400.0</td>\n",
              "      <td>2400.0</td>\n",
              "      <td>2400.0</td>\n",
              "      <td>36 months</td>\n",
              "      <td>15.96%</td>\n",
              "      <td>84.33</td>\n",
              "      <td>C</td>\n",
              "      <td>C5</td>\n",
              "      <td>10+ years</td>\n",
              "      <td>RENT</td>\n",
              "      <td>12252.0</td>\n",
              "      <td>Not Verified</td>\n",
              "      <td>n</td>\n",
              "      <td>small_business</td>\n",
              "      <td>IL</td>\n",
              "      <td>8.72</td>\n",
              "      <td>Nov-01</td>\n",
              "      <td>NaN</td>\n",
              "      <td>NaN</td>\n",
              "      <td>2.0</td>\n",
              "      <td>0.0</td>\n",
              "      <td>2956.0</td>\n",
              "      <td>98.50%</td>\n",
              "      <td>10.0</td>\n",
              "      <td>f</td>\n",
              "      <td>0.0</td>\n",
              "      <td>0.0</td>\n",
              "      <td>3005.666844</td>\n",
              "      <td>3005.67</td>\n",
              "      <td>2400.00</td>\n",
              "      <td>605.67</td>\n",
              "      <td>0.00</td>\n",
              "      <td>0.0</td>\n",
              "      <td>0.00</td>\n",
              "      <td>Jun-14</td>\n",
              "      <td>649.91</td>\n",
              "    </tr>\n",
              "    <tr>\n",
              "      <th>3</th>\n",
              "      <td>10000.0</td>\n",
              "      <td>10000.0</td>\n",
              "      <td>10000.0</td>\n",
              "      <td>36 months</td>\n",
              "      <td>13.49%</td>\n",
              "      <td>339.31</td>\n",
              "      <td>C</td>\n",
              "      <td>C1</td>\n",
              "      <td>10+ years</td>\n",
              "      <td>RENT</td>\n",
              "      <td>49200.0</td>\n",
              "      <td>Source Verified</td>\n",
              "      <td>n</td>\n",
              "      <td>other</td>\n",
              "      <td>CA</td>\n",
              "      <td>20.00</td>\n",
              "      <td>Feb-96</td>\n",
              "      <td>35.0</td>\n",
              "      <td>NaN</td>\n",
              "      <td>10.0</td>\n",
              "      <td>0.0</td>\n",
              "      <td>5598.0</td>\n",
              "      <td>21%</td>\n",
              "      <td>37.0</td>\n",
              "      <td>f</td>\n",
              "      <td>0.0</td>\n",
              "      <td>0.0</td>\n",
              "      <td>12231.890000</td>\n",
              "      <td>12231.89</td>\n",
              "      <td>10000.00</td>\n",
              "      <td>2214.92</td>\n",
              "      <td>16.97</td>\n",
              "      <td>0.0</td>\n",
              "      <td>0.00</td>\n",
              "      <td>Jan-15</td>\n",
              "      <td>357.48</td>\n",
              "    </tr>\n",
              "    <tr>\n",
              "      <th>4</th>\n",
              "      <td>3000.0</td>\n",
              "      <td>3000.0</td>\n",
              "      <td>3000.0</td>\n",
              "      <td>60 months</td>\n",
              "      <td>12.69%</td>\n",
              "      <td>67.79</td>\n",
              "      <td>B</td>\n",
              "      <td>B5</td>\n",
              "      <td>1 year</td>\n",
              "      <td>RENT</td>\n",
              "      <td>80000.0</td>\n",
              "      <td>Source Verified</td>\n",
              "      <td>n</td>\n",
              "      <td>other</td>\n",
              "      <td>OR</td>\n",
              "      <td>17.94</td>\n",
              "      <td>Jan-96</td>\n",
              "      <td>38.0</td>\n",
              "      <td>NaN</td>\n",
              "      <td>15.0</td>\n",
              "      <td>0.0</td>\n",
              "      <td>27783.0</td>\n",
              "      <td>53.90%</td>\n",
              "      <td>38.0</td>\n",
              "      <td>f</td>\n",
              "      <td>0.0</td>\n",
              "      <td>0.0</td>\n",
              "      <td>4066.908161</td>\n",
              "      <td>4066.91</td>\n",
              "      <td>3000.00</td>\n",
              "      <td>1066.91</td>\n",
              "      <td>0.00</td>\n",
              "      <td>0.0</td>\n",
              "      <td>0.00</td>\n",
              "      <td>Jan-17</td>\n",
              "      <td>67.30</td>\n",
              "    </tr>\n",
              "  </tbody>\n",
              "</table>\n",
              "</div>"
            ],
            "text/plain": [
              "   loan_amnt  funded_amnt  ...  last_pymnt_d last_pymnt_amnt\n",
              "0     5000.0       5000.0  ...        Jan-15          171.62\n",
              "1     2500.0       2500.0  ...        Apr-13          119.66\n",
              "2     2400.0       2400.0  ...        Jun-14          649.91\n",
              "3    10000.0      10000.0  ...        Jan-15          357.48\n",
              "4     3000.0       3000.0  ...        Jan-17           67.30\n",
              "\n",
              "[5 rows x 36 columns]"
            ]
          },
          "metadata": {
            "tags": []
          },
          "execution_count": 47
        }
      ]
    },
    {
      "cell_type": "markdown",
      "metadata": {
        "id": "7RMgYFQP59ih",
        "colab_type": "text"
      },
      "source": [
        "#Transform String Format to \"Numerical\" Format\n",
        "A few of the features need to be altered from a string format to a numerical format."
      ]
    },
    {
      "cell_type": "code",
      "metadata": {
        "id": "6sdd1VkQ6qa9",
        "colab_type": "code",
        "colab": {}
      },
      "source": [
        "#transform features from string to numeric \n",
        "for i in ['term', 'int_rate', 'emp_length', 'revol_util']:\n",
        "  data.loc[:, i]= data.loc[:, i].apply(lambda x: re.sub('[^0-9]','', str(x)))\n",
        "  data.loc[:, i]= pd.to_numeric(data.loc[:, i])"
      ],
      "execution_count": 48,
      "outputs": []
    },
    {
      "cell_type": "markdown",
      "metadata": {
        "id": "GaT4qfiU7bkW",
        "colab_type": "text"
      },
      "source": [
        "For our clustering application, we will consider only the numercial features and ignore all of the categorical features because non-numerical features cannot be handled by our clustering algorithm in their current form."
      ]
    },
    {
      "cell_type": "markdown",
      "metadata": {
        "id": "iVMNSTUE9WwN",
        "colab_type": "text"
      },
      "source": [
        "#Impute Missing Values\n",
        "Lets find these numerical features and count the number of NAN's per feature.<br>\n",
        "We will then impute these NAN 's with either a mean of the feature or, in some cases, just the number zero, depending on what feature represents from a business perspectives:"
      ]
    },
    {
      "cell_type": "code",
      "metadata": {
        "id": "K01mO4CM9y_6",
        "colab_type": "code",
        "colab": {
          "base_uri": "https://localhost:8080/",
          "height": 476
        },
        "outputId": "cc20fe6b-59e2-4177-d610-045a70a88d47"
      },
      "source": [
        "#Determine which features are numerical\n",
        "numerical_feats = [x for x in data.columns if data [x].dtype != 'object']\n",
        "\n",
        "#Display NaN's by feature\n",
        "nan_counter= np.isnan(data.loc[:, numerical_feats]).sum()\n",
        "print(nan_counter)"
      ],
      "execution_count": 50,
      "outputs": [
        {
          "output_type": "stream",
          "text": [
            "loan_amnt                      7\n",
            "funded_amnt                    7\n",
            "funded_amnt_inv                7\n",
            "term                           7\n",
            "int_rate                       7\n",
            "installment                    7\n",
            "emp_length                  1119\n",
            "annual_inc                    11\n",
            "dti                            7\n",
            "mths_since_last_delinq     26933\n",
            "mths_since_last_record     38891\n",
            "open_acc                      36\n",
            "pub_rec                       36\n",
            "revol_bal                      7\n",
            "revol_util                    97\n",
            "total_acc                     36\n",
            "out_prncp                      7\n",
            "out_prncp_inv                  7\n",
            "total_pymnt                    7\n",
            "total_pymnt_inv                7\n",
            "total_rec_prncp                7\n",
            "total_rec_int                  7\n",
            "total_rec_late_fee             7\n",
            "recoveries                     7\n",
            "collection_recovery_fee        7\n",
            "last_pymnt_amnt                7\n",
            "dtype: int64\n"
          ],
          "name": "stdout"
        }
      ]
    },
    {
      "cell_type": "markdown",
      "metadata": {
        "id": "xtcYB7Yd-Yev",
        "colab_type": "text"
      },
      "source": [
        "Most of our features have NAN values and some have many.<br>\n",
        "\n",
        "Lets impute these so we do not have to deal with any NaNs during the clutering process."
      ]
    },
    {
      "cell_type": "code",
      "metadata": {
        "id": "sPqx2IlV-mg2",
        "colab_type": "code",
        "colab": {
          "base_uri": "https://localhost:8080/",
          "height": 360
        },
        "outputId": "a8de112d-deaa-4690-bf2c-41bb5a4cffe5"
      },
      "source": [
        "from sklearn.impute import SimpleImputer\n",
        "\n",
        "#Impute NaNs with mean\n",
        "fill_with_mean= ['loan_amnt', 'funded_amnt', 'funded_amnt_inv', 'term',\n",
        "                 'int_rate', 'installment', 'emp_length', 'annual_inc',\n",
        "                 'dti', 'open_acc', 'revol_bal', 'revol_util', 'total_acc', \n",
        "                 'out_prncp', 'out_prncp_inv', 'total_pymnt', 'total_pymnt_inv', \n",
        "                 'total_rec_prncp', 'total_rec_int', 'last_pymnt_amnt']\n",
        "\n",
        "#impute Nans with zero\n",
        "fill_with_zero= ['delinq_2yrs', 'mths_since_last_delinq', 'mths_since_last_record', \n",
        "                 'pub_rec', 'total_rec_late_fee', 'recoveries', 'collection_recovery_fee']\n",
        "\n",
        "#Perform imputation ( I may have to find a different solution instead of using .loc )\n",
        "im= SimpleImputer(strategy= 'mean')\n",
        "data.loc[:, fill_with_mean]= im.fit_transform(data[fill_with_mean])\n",
        "data.loc[:, fill_with_zero]= data.loc[:, fill_with_zero].fillna(value= 0, axis= 1)"
      ],
      "execution_count": 55,
      "outputs": [
        {
          "output_type": "error",
          "ename": "KeyError",
          "evalue": "ignored",
          "traceback": [
            "\u001b[0;31m---------------------------------------------------------------------------\u001b[0m",
            "\u001b[0;31mKeyError\u001b[0m                                  Traceback (most recent call last)",
            "\u001b[0;32m<ipython-input-55-cf9cb91bf5c0>\u001b[0m in \u001b[0;36m<module>\u001b[0;34m()\u001b[0m\n\u001b[1;32m     15\u001b[0m \u001b[0mim\u001b[0m\u001b[0;34m=\u001b[0m \u001b[0mSimpleImputer\u001b[0m\u001b[0;34m(\u001b[0m\u001b[0mstrategy\u001b[0m\u001b[0;34m=\u001b[0m \u001b[0;34m'mean'\u001b[0m\u001b[0;34m)\u001b[0m\u001b[0;34m\u001b[0m\u001b[0;34m\u001b[0m\u001b[0m\n\u001b[1;32m     16\u001b[0m \u001b[0mdata\u001b[0m\u001b[0;34m.\u001b[0m\u001b[0mloc\u001b[0m\u001b[0;34m[\u001b[0m\u001b[0;34m:\u001b[0m\u001b[0;34m,\u001b[0m \u001b[0mfill_with_mean\u001b[0m\u001b[0;34m]\u001b[0m\u001b[0;34m=\u001b[0m \u001b[0mim\u001b[0m\u001b[0;34m.\u001b[0m\u001b[0mfit_transform\u001b[0m\u001b[0;34m(\u001b[0m\u001b[0mdata\u001b[0m\u001b[0;34m[\u001b[0m\u001b[0mfill_with_mean\u001b[0m\u001b[0;34m]\u001b[0m\u001b[0;34m)\u001b[0m\u001b[0;34m\u001b[0m\u001b[0;34m\u001b[0m\u001b[0m\n\u001b[0;32m---> 17\u001b[0;31m \u001b[0mdata\u001b[0m\u001b[0;34m.\u001b[0m\u001b[0mloc\u001b[0m\u001b[0;34m[\u001b[0m\u001b[0;34m:\u001b[0m\u001b[0;34m,\u001b[0m \u001b[0mfill_with_zero\u001b[0m\u001b[0;34m]\u001b[0m\u001b[0;34m=\u001b[0m \u001b[0mdata\u001b[0m\u001b[0;34m.\u001b[0m\u001b[0mloc\u001b[0m\u001b[0;34m[\u001b[0m\u001b[0;34m:\u001b[0m\u001b[0;34m,\u001b[0m \u001b[0mfill_with_zero\u001b[0m\u001b[0;34m]\u001b[0m\u001b[0;34m.\u001b[0m\u001b[0mfillna\u001b[0m\u001b[0;34m(\u001b[0m\u001b[0mvalue\u001b[0m\u001b[0;34m=\u001b[0m \u001b[0;36m0\u001b[0m\u001b[0;34m,\u001b[0m \u001b[0maxis\u001b[0m\u001b[0;34m=\u001b[0m \u001b[0;36m1\u001b[0m\u001b[0;34m)\u001b[0m\u001b[0;34m\u001b[0m\u001b[0;34m\u001b[0m\u001b[0m\n\u001b[0m",
            "\u001b[0;32m/usr/local/lib/python3.6/dist-packages/pandas/core/indexing.py\u001b[0m in \u001b[0;36m__getitem__\u001b[0;34m(self, key)\u001b[0m\n\u001b[1;32m   1760\u001b[0m                 \u001b[0;32mexcept\u001b[0m \u001b[0;34m(\u001b[0m\u001b[0mKeyError\u001b[0m\u001b[0;34m,\u001b[0m \u001b[0mIndexError\u001b[0m\u001b[0;34m,\u001b[0m \u001b[0mAttributeError\u001b[0m\u001b[0;34m)\u001b[0m\u001b[0;34m:\u001b[0m\u001b[0;34m\u001b[0m\u001b[0;34m\u001b[0m\u001b[0m\n\u001b[1;32m   1761\u001b[0m                     \u001b[0;32mpass\u001b[0m\u001b[0;34m\u001b[0m\u001b[0;34m\u001b[0m\u001b[0m\n\u001b[0;32m-> 1762\u001b[0;31m             \u001b[0;32mreturn\u001b[0m \u001b[0mself\u001b[0m\u001b[0;34m.\u001b[0m\u001b[0m_getitem_tuple\u001b[0m\u001b[0;34m(\u001b[0m\u001b[0mkey\u001b[0m\u001b[0;34m)\u001b[0m\u001b[0;34m\u001b[0m\u001b[0;34m\u001b[0m\u001b[0m\n\u001b[0m\u001b[1;32m   1763\u001b[0m         \u001b[0;32melse\u001b[0m\u001b[0;34m:\u001b[0m\u001b[0;34m\u001b[0m\u001b[0;34m\u001b[0m\u001b[0m\n\u001b[1;32m   1764\u001b[0m             \u001b[0;31m# we by definition only have the 0th axis\u001b[0m\u001b[0;34m\u001b[0m\u001b[0;34m\u001b[0m\u001b[0;34m\u001b[0m\u001b[0m\n",
            "\u001b[0;32m/usr/local/lib/python3.6/dist-packages/pandas/core/indexing.py\u001b[0m in \u001b[0;36m_getitem_tuple\u001b[0;34m(self, tup)\u001b[0m\n\u001b[1;32m   1287\u001b[0m                 \u001b[0;32mcontinue\u001b[0m\u001b[0;34m\u001b[0m\u001b[0;34m\u001b[0m\u001b[0m\n\u001b[1;32m   1288\u001b[0m \u001b[0;34m\u001b[0m\u001b[0m\n\u001b[0;32m-> 1289\u001b[0;31m             \u001b[0mretval\u001b[0m \u001b[0;34m=\u001b[0m \u001b[0mgetattr\u001b[0m\u001b[0;34m(\u001b[0m\u001b[0mretval\u001b[0m\u001b[0;34m,\u001b[0m \u001b[0mself\u001b[0m\u001b[0;34m.\u001b[0m\u001b[0mname\u001b[0m\u001b[0;34m)\u001b[0m\u001b[0;34m.\u001b[0m\u001b[0m_getitem_axis\u001b[0m\u001b[0;34m(\u001b[0m\u001b[0mkey\u001b[0m\u001b[0;34m,\u001b[0m \u001b[0maxis\u001b[0m\u001b[0;34m=\u001b[0m\u001b[0mi\u001b[0m\u001b[0;34m)\u001b[0m\u001b[0;34m\u001b[0m\u001b[0;34m\u001b[0m\u001b[0m\n\u001b[0m\u001b[1;32m   1290\u001b[0m \u001b[0;34m\u001b[0m\u001b[0m\n\u001b[1;32m   1291\u001b[0m         \u001b[0;32mreturn\u001b[0m \u001b[0mretval\u001b[0m\u001b[0;34m\u001b[0m\u001b[0;34m\u001b[0m\u001b[0m\n",
            "\u001b[0;32m/usr/local/lib/python3.6/dist-packages/pandas/core/indexing.py\u001b[0m in \u001b[0;36m_getitem_axis\u001b[0;34m(self, key, axis)\u001b[0m\n\u001b[1;32m   1952\u001b[0m                     \u001b[0;32mraise\u001b[0m \u001b[0mValueError\u001b[0m\u001b[0;34m(\u001b[0m\u001b[0;34m\"Cannot index with multidimensional key\"\u001b[0m\u001b[0;34m)\u001b[0m\u001b[0;34m\u001b[0m\u001b[0;34m\u001b[0m\u001b[0m\n\u001b[1;32m   1953\u001b[0m \u001b[0;34m\u001b[0m\u001b[0m\n\u001b[0;32m-> 1954\u001b[0;31m                 \u001b[0;32mreturn\u001b[0m \u001b[0mself\u001b[0m\u001b[0;34m.\u001b[0m\u001b[0m_getitem_iterable\u001b[0m\u001b[0;34m(\u001b[0m\u001b[0mkey\u001b[0m\u001b[0;34m,\u001b[0m \u001b[0maxis\u001b[0m\u001b[0;34m=\u001b[0m\u001b[0maxis\u001b[0m\u001b[0;34m)\u001b[0m\u001b[0;34m\u001b[0m\u001b[0;34m\u001b[0m\u001b[0m\n\u001b[0m\u001b[1;32m   1955\u001b[0m \u001b[0;34m\u001b[0m\u001b[0m\n\u001b[1;32m   1956\u001b[0m             \u001b[0;31m# nested tuple slicing\u001b[0m\u001b[0;34m\u001b[0m\u001b[0;34m\u001b[0m\u001b[0;34m\u001b[0m\u001b[0m\n",
            "\u001b[0;32m/usr/local/lib/python3.6/dist-packages/pandas/core/indexing.py\u001b[0m in \u001b[0;36m_getitem_iterable\u001b[0;34m(self, key, axis)\u001b[0m\n\u001b[1;32m   1593\u001b[0m         \u001b[0;32melse\u001b[0m\u001b[0;34m:\u001b[0m\u001b[0;34m\u001b[0m\u001b[0;34m\u001b[0m\u001b[0m\n\u001b[1;32m   1594\u001b[0m             \u001b[0;31m# A collection of keys\u001b[0m\u001b[0;34m\u001b[0m\u001b[0;34m\u001b[0m\u001b[0;34m\u001b[0m\u001b[0m\n\u001b[0;32m-> 1595\u001b[0;31m             \u001b[0mkeyarr\u001b[0m\u001b[0;34m,\u001b[0m \u001b[0mindexer\u001b[0m \u001b[0;34m=\u001b[0m \u001b[0mself\u001b[0m\u001b[0;34m.\u001b[0m\u001b[0m_get_listlike_indexer\u001b[0m\u001b[0;34m(\u001b[0m\u001b[0mkey\u001b[0m\u001b[0;34m,\u001b[0m \u001b[0maxis\u001b[0m\u001b[0;34m,\u001b[0m \u001b[0mraise_missing\u001b[0m\u001b[0;34m=\u001b[0m\u001b[0;32mFalse\u001b[0m\u001b[0;34m)\u001b[0m\u001b[0;34m\u001b[0m\u001b[0;34m\u001b[0m\u001b[0m\n\u001b[0m\u001b[1;32m   1596\u001b[0m             return self.obj._reindex_with_indexers(\n\u001b[1;32m   1597\u001b[0m                 \u001b[0;34m{\u001b[0m\u001b[0maxis\u001b[0m\u001b[0;34m:\u001b[0m \u001b[0;34m[\u001b[0m\u001b[0mkeyarr\u001b[0m\u001b[0;34m,\u001b[0m \u001b[0mindexer\u001b[0m\u001b[0;34m]\u001b[0m\u001b[0;34m}\u001b[0m\u001b[0;34m,\u001b[0m \u001b[0mcopy\u001b[0m\u001b[0;34m=\u001b[0m\u001b[0;32mTrue\u001b[0m\u001b[0;34m,\u001b[0m \u001b[0mallow_dups\u001b[0m\u001b[0;34m=\u001b[0m\u001b[0;32mTrue\u001b[0m\u001b[0;34m\u001b[0m\u001b[0;34m\u001b[0m\u001b[0m\n",
            "\u001b[0;32m/usr/local/lib/python3.6/dist-packages/pandas/core/indexing.py\u001b[0m in \u001b[0;36m_get_listlike_indexer\u001b[0;34m(self, key, axis, raise_missing)\u001b[0m\n\u001b[1;32m   1551\u001b[0m \u001b[0;34m\u001b[0m\u001b[0m\n\u001b[1;32m   1552\u001b[0m         self._validate_read_indexer(\n\u001b[0;32m-> 1553\u001b[0;31m             \u001b[0mkeyarr\u001b[0m\u001b[0;34m,\u001b[0m \u001b[0mindexer\u001b[0m\u001b[0;34m,\u001b[0m \u001b[0mo\u001b[0m\u001b[0;34m.\u001b[0m\u001b[0m_get_axis_number\u001b[0m\u001b[0;34m(\u001b[0m\u001b[0maxis\u001b[0m\u001b[0;34m)\u001b[0m\u001b[0;34m,\u001b[0m \u001b[0mraise_missing\u001b[0m\u001b[0;34m=\u001b[0m\u001b[0mraise_missing\u001b[0m\u001b[0;34m\u001b[0m\u001b[0;34m\u001b[0m\u001b[0m\n\u001b[0m\u001b[1;32m   1554\u001b[0m         )\n\u001b[1;32m   1555\u001b[0m         \u001b[0;32mreturn\u001b[0m \u001b[0mkeyarr\u001b[0m\u001b[0;34m,\u001b[0m \u001b[0mindexer\u001b[0m\u001b[0;34m\u001b[0m\u001b[0;34m\u001b[0m\u001b[0m\n",
            "\u001b[0;32m/usr/local/lib/python3.6/dist-packages/pandas/core/indexing.py\u001b[0m in \u001b[0;36m_validate_read_indexer\u001b[0;34m(self, key, indexer, axis, raise_missing)\u001b[0m\n\u001b[1;32m   1653\u001b[0m             \u001b[0;32mif\u001b[0m \u001b[0;32mnot\u001b[0m \u001b[0;34m(\u001b[0m\u001b[0max\u001b[0m\u001b[0;34m.\u001b[0m\u001b[0mis_categorical\u001b[0m\u001b[0;34m(\u001b[0m\u001b[0;34m)\u001b[0m \u001b[0;32mor\u001b[0m \u001b[0max\u001b[0m\u001b[0;34m.\u001b[0m\u001b[0mis_interval\u001b[0m\u001b[0;34m(\u001b[0m\u001b[0;34m)\u001b[0m\u001b[0;34m)\u001b[0m\u001b[0;34m:\u001b[0m\u001b[0;34m\u001b[0m\u001b[0;34m\u001b[0m\u001b[0m\n\u001b[1;32m   1654\u001b[0m                 raise KeyError(\n\u001b[0;32m-> 1655\u001b[0;31m                     \u001b[0;34m\"Passing list-likes to .loc or [] with any missing labels \"\u001b[0m\u001b[0;34m\u001b[0m\u001b[0;34m\u001b[0m\u001b[0m\n\u001b[0m\u001b[1;32m   1656\u001b[0m                     \u001b[0;34m\"is no longer supported, see \"\u001b[0m\u001b[0;34m\u001b[0m\u001b[0;34m\u001b[0m\u001b[0m\n\u001b[1;32m   1657\u001b[0m                     \u001b[0;34m\"https://pandas.pydata.org/pandas-docs/stable/user_guide/indexing.html#deprecate-loc-reindex-listlike\"\u001b[0m  \u001b[0;31m# noqa:E501\u001b[0m\u001b[0;34m\u001b[0m\u001b[0;34m\u001b[0m\u001b[0m\n",
            "\u001b[0;31mKeyError\u001b[0m: 'Passing list-likes to .loc or [] with any missing labels is no longer supported, see https://pandas.pydata.org/pandas-docs/stable/user_guide/indexing.html#deprecate-loc-reindex-listlike'"
          ]
        }
      ]
    },
    {
      "cell_type": "markdown",
      "metadata": {
        "id": "RFd7TOV2BNog",
        "colab_type": "text"
      },
      "source": [
        "Lets recalculate the NaNs to mke sure no Nans remain."
      ]
    },
    {
      "cell_type": "code",
      "metadata": {
        "id": "Tu1L8WUZBV71",
        "colab_type": "code",
        "colab": {}
      },
      "source": [
        "numerical_feats= [x for x in data.columns if data [x].dtype != 'object']\n",
        "nan_counter= np.isnan(data.loc[:, numerical_feats]).sum()"
      ],
      "execution_count": null,
      "outputs": []
    },
    {
      "cell_type": "markdown",
      "metadata": {
        "id": "1T0NNQ7DCAvr",
        "colab_type": "text"
      },
      "source": [
        "#Engineering Features\n",
        "Lets also engineer a few more features to add to the existing feature set.<br>\n",
        "These new features are mostly ratios between loan amount, revolving balance, payments and the borrowers annual income:"
      ]
    },
    {
      "cell_type": "code",
      "metadata": {
        "id": "Pnv1-MwtDBDM",
        "colab_type": "code",
        "colab": {}
      },
      "source": [
        "#Feature Engineering\n",
        "data['installmentOverLoanAmnt']= data.installment/data.loan_amnt\n",
        "data['loanAmntOverIncome']= data.loan_amnt/data.annual_inc\n",
        "data['revol_balOverIncome']= data.revol_bal/data.annual_inc\n",
        "data['totalPymntOverIncome']= data.total_pymnt/ data.annual_inc\n",
        "data['totalPymntInvOverIncome']= data.total_pymnt_inv/data.annual_inc\n",
        "data['totalRecPrncpOverIncome']= data.total_rec_prrncp/data.annual_inc\n",
        "data['totalRecIncOverIncome']= data.total_rec_int/data.annual_inc/\n",
        "\n",
        "new_feats= ['installmentOverLoanAmnt', 'loanAmntOverIncome',\n",
        "            'revol_balOverIncome', 'totalPymntOverIncome',\n",
        "            'totalPymntInvOverIncome', 'totalRecPrncpOverIncome', \n",
        "            'totalRecIncOverIncome']"
      ],
      "execution_count": null,
      "outputs": []
    },
    {
      "cell_type": "code",
      "metadata": {
        "id": "mb3izLTVGIXv",
        "colab_type": "code",
        "colab": {}
      },
      "source": [
        "#Select Features for Training\n",
        "numerical_plus_new_feats= numerical_feats + new_feats\n",
        "x_train= data.loc[:, numerical_plus_new_feats]\n",
        "\n",
        "#Scale data\n",
        "sx= pp.StandardScaler()\n",
        "x_train.loc[:, :]= sx.fit_transform(x_train)"
      ],
      "execution_count": null,
      "outputs": []
    },
    {
      "cell_type": "code",
      "metadata": {
        "id": "nk6XggtFGuhr",
        "colab_type": "code",
        "colab": {}
      },
      "source": [
        "x_train.columns"
      ],
      "execution_count": null,
      "outputs": []
    },
    {
      "cell_type": "code",
      "metadata": {
        "id": "f8zovDVHGzd2",
        "colab_type": "code",
        "colab": {}
      },
      "source": [
        "#Designate Labels for Evaluation\n",
        "labels= data.grade\n",
        "labels.unique()"
      ],
      "execution_count": null,
      "outputs": []
    },
    {
      "cell_type": "code",
      "metadata": {
        "id": "iqAeSROVG-FT",
        "colab_type": "code",
        "colab": {}
      },
      "source": [
        "#Fill missing labels\n",
        "labels= labels.fillna(value= 'Z')\n",
        "\n",
        "#Convert labels to numerical values\n",
        "lbl= pp.LabelEncoder()\n",
        "lbl.fit(list(labels.values))\n",
        "labels= pd.Series(data= lbl.transform(labels.values), name= 'grade')\n",
        "\n",
        "#Store as y_train\n",
        "y_train= labels"
      ],
      "execution_count": null,
      "outputs": []
    },
    {
      "cell_type": "code",
      "metadata": {
        "id": "GQSFVUGsHgzF",
        "colab_type": "code",
        "colab": {}
      },
      "source": [
        "labels_original_vs_news= pd.concat([labels, data.grade], axis= 1)\n",
        "labels_original_vs_news"
      ],
      "execution_count": null,
      "outputs": []
    },
    {
      "cell_type": "code",
      "metadata": {
        "id": "TwsismKTHxHp",
        "colab_type": "code",
        "colab": {}
      },
      "source": [
        "#Compare Loan grades with interest rates\n",
        "interest_and_grade= pd.DataFrame(data= [data.int_rate, labels])\n",
        "interest_and_grade= interest_and_grade.T\n",
        "\n",
        "interest_and_grade.groupby('grade').mean()"
      ],
      "execution_count": null,
      "outputs": []
    },
    {
      "cell_type": "code",
      "metadata": {
        "id": "RlNNSifs749d",
        "colab_type": "code",
        "colab": {}
      },
      "source": [
        "#Goodness of the clusters"
      ],
      "execution_count": null,
      "outputs": []
    },
    {
      "cell_type": "code",
      "metadata": {
        "id": "YsISgbcn5g1S",
        "colab_type": "code",
        "colab": {}
      },
      "source": [
        "def analyzeCluster(clusterDF, labelsDF):\n",
        "  countbycluster= pd.DataFrame(data= clusterDF['cluster'].value_counts())\n",
        "  countbycluster.reset_index(inplace= True, drop= False)\n",
        "  countbycluster.columns= ['cluster', 'cluster_count']\n",
        "\n",
        "  preds= pd.concat([labelsDF, clusterDF], axis= 1)\n",
        "  preds.columns= ['truelabel', 'cluster']\n",
        "\n",
        "  countbylabel= pd.DataFrame(data= preds.groupby('truelabel').count())\n",
        "\n",
        "  countmostfreq= pd.DataFrame(data= preds.groupby('cluster').agg(lambda x:x.value_counts().iloc[0]))\n",
        "  countmostfreq.reset_index(inplace= True, drop= False)\n",
        "  countmostfreq.columns= ['cluster', 'countmostfrequent']\n",
        "\n",
        "  accuracyDF= countmostfreq.merge(countbycluster, left_on= 'cluster', right_on= 'cluster')\n",
        "\n",
        "  overallaccuracy= accuracyDF.countmostfrequent.sum()/ accuracyDF.clustercount.sum()\n",
        "\n",
        "  accuracybylabel= accuracyDF.countmostfrequent/ accuracyDF.clustercount\n",
        "\n",
        "  return countbycluster, countbylabel, countmostfreq, accuracyDF, overallaccuracy, accuracybylabel"
      ],
      "execution_count": null,
      "outputs": []
    },
    {
      "cell_type": "markdown",
      "metadata": {
        "id": "5Yk7o8VG-iUA",
        "colab_type": "text"
      },
      "source": [
        "#K-Means Clustering Implementation"
      ]
    },
    {
      "cell_type": "code",
      "metadata": {
        "id": "c38QoJJ48IXy",
        "colab_type": "code",
        "colab": {}
      },
      "source": [
        "#k_Means Application\n",
        "from sklearn.cluster import KMeans\n",
        "\n",
        "n_clusters = 10\n",
        "n_init= 10\n",
        "max_iter= 300\n",
        "tol= 0.0001\n",
        "random_state= 2018\n",
        "n_jobs= 2\n",
        "\n",
        "kmeans= KMeans(n_clusters= n_clusters, n_init= n_init, max_iter= max_iter,\n",
        "               tol= tol, random_state= random_state, n_jobs= n_jobs)\n",
        "\n",
        "kmeans_inertia= pd.DataFrame(data= [], index= range(10,31), \n",
        "                             columns= ['inertia'])\n",
        "\n",
        "overallaccuracy_kmeansDF= pd.DataFrame(data= [], index= range(10, 31), columns= ['overall_accuracy'])\n",
        "\n",
        "for n_clusters in range(10,31):\n",
        "  kmeans= KMeans(n_clusters= n_clusters, n_init= n_init,  max_iter= max_iter, tol= tol,\n",
        "                 random_state= random_state, n_jobs = n_jobs)\n",
        "  kmeans.fit(x_train)\n",
        "  kmeans_inertia.loc[n_clusters]= kmeans.inertia_\n",
        "  x_train_kmeansclustered= kmeans.predict(x_train)\n",
        "  x_train_kmeansclustered= pd.DataFrame(data= x_train_kmeansclustered, index= x_train.index,\n",
        "                                        columns= ['cluster'])\n",
        "  \n",
        "  countbycluster_kmeans, countbylabel_kmeans, \\\n",
        "  countmostfreq_kmeans, accuracyDF_kmeans, \\\n",
        "  overallaccuracy_kmeans, accuracybylabel_kmeans= analyzecluster(x_train_kmeans_clustered, y_train)\n",
        "\n",
        "  overallaccuracy_kmeansDF.loc[n_clusters]= overallaccuracy_kmeans"
      ],
      "execution_count": null,
      "outputs": []
    },
    {
      "cell_type": "code",
      "metadata": {
        "id": "8r2LuUlt-TTh",
        "colab_type": "code",
        "colab": {}
      },
      "source": [
        "overallaccuracy_kmeansDF.plot()"
      ],
      "execution_count": null,
      "outputs": []
    },
    {
      "cell_type": "code",
      "metadata": {
        "id": "g89EVVD0-bPG",
        "colab_type": "code",
        "colab": {}
      },
      "source": [
        "accuracybylabel_kmeans"
      ],
      "execution_count": null,
      "outputs": []
    },
    {
      "cell_type": "markdown",
      "metadata": {
        "id": "zKPxY7bh-rSX",
        "colab_type": "text"
      },
      "source": [
        "#Hierarchical Clustering Implementation"
      ]
    },
    {
      "cell_type": "code",
      "metadata": {
        "id": "OtaaOsuV-vEc",
        "colab_type": "code",
        "colab": {}
      },
      "source": [
        "import fastcluster\n",
        "from scipy.cluster.hierarchy import dendrogram\n",
        "from scipy.cluster.hierarchy import cophenet\n",
        "from scipy.spatial.distance import pdist\n",
        "\n",
        "Z= fastcluster.linkage_vector(x_train, method= 'ward', metric= 'euclidean')\n",
        "z_dataframe= pd.DataFrame(data= Z, columns= ['cluster_one', 'cluster_two'.\n",
        "                                             'distance', 'New Cluster Size'])"
      ],
      "execution_count": null,
      "outputs": []
    },
    {
      "cell_type": "code",
      "metadata": {
        "id": "Ia0TGwM8_VuR",
        "colab_type": "code",
        "colab": {}
      },
      "source": [
        "z_dataframe[:20]"
      ],
      "execution_count": null,
      "outputs": []
    },
    {
      "cell_type": "code",
      "metadata": {
        "id": "hs03AohR_ZuY",
        "colab_type": "code",
        "colab": {}
      },
      "source": [
        "z_dataframe[42521:]"
      ],
      "execution_count": null,
      "outputs": []
    },
    {
      "cell_type": "code",
      "metadata": {
        "id": "vDvFh4uW_eIH",
        "colab_type": "code",
        "colab": {}
      },
      "source": [
        "from scipy.cluster.hierarchy import fcluster\n",
        "\n",
        "distance_threshold= 100\n",
        "clusters= fcluster(Z, distance_threshold, criterion= 'distance')\n",
        "x_train_hierclustered= pd.DataFrame(data = clusters, index= x_train.index, columns= ['cluster'])\n",
        "\n",
        "print('Number of distinct clusters: ', len(x_train_hierclustered['cluster'].unique()))"
      ],
      "execution_count": null,
      "outputs": []
    },
    {
      "cell_type": "code",
      "metadata": {
        "id": "xMKERGsPIqVo",
        "colab_type": "code",
        "colab": {}
      },
      "source": [
        "countbycluster_hierclust, countbylabel_hierclust, countmostfreq_hierclust,\n",
        "accuracy_hierclust, overallaccuracy_hierclust, accuracybylabel_hierclust= analyze_cluster(x_train_hierclustered, y_train)\n",
        "\n",
        "print('Overall Accuracy from hierarchical clustering: ', overallaccuracy_hierclust)"
      ],
      "execution_count": null,
      "outputs": []
    },
    {
      "cell_type": "markdown",
      "metadata": {
        "id": "bxl7JcVOJp7v",
        "colab_type": "text"
      },
      "source": [
        "#HDBSCAN Implementation"
      ]
    },
    {
      "cell_type": "code",
      "metadata": {
        "id": "RCKN-R9WJtST",
        "colab_type": "code",
        "colab": {}
      },
      "source": [
        "#hdbscan\n",
        "import hdbscan\n",
        "\n",
        "min_cluster_size= 20\n",
        "min_samples= 20\n",
        "alpha= 1.0\n",
        "cluster_selection_method= 'leaf'\n",
        "\n",
        "hdb= hdbscan.HDBSCAN(min_cluster_size= ,min_cluster_size, min_samples= min_samples,\n",
        "                     alpha = alpha, cluster_selection_method= cluster_selection_method)\n",
        "\n",
        "x_train_hdbscanclustered= hdb.fit_predict(x_train)\n",
        "x_train_hdbcanclustered= pd.DataFrame(data= x_train_hdbscanclustered, index= x_train.index,\n",
        "                                      columns= ['cluster'])\n",
        "\n",
        "countbycluster_hdbscan, countybylabel_hdbscan, countmostfreq_hdbscan, \n",
        "accuracyDF_hdbscan, overallaccuracy_hdbscan, accuracybylabel_hdbscan= analyzecluster(x_train_hdbscanclustered, y_train)\n",
        "\n",
        "print('Overall accuracy for HDBSCAN: ', overallaccuracy_hdbscan)\n",
        "print('Cluster Results for HDBSCAN', countbycluster_hdbscan)"
      ],
      "execution_count": null,
      "outputs": []
    },
    {
      "cell_type": "code",
      "metadata": {
        "id": "_4i3jabALVdE",
        "colab_type": "code",
        "colab": {}
      },
      "source": [
        "accuracybylabel_hdbscan"
      ],
      "execution_count": null,
      "outputs": []
    }
  ]
}